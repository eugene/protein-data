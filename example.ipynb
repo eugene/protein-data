{
 "cells": [
  {
   "cell_type": "code",
   "execution_count": 1,
   "id": "8e59b6ea-0a38-47bb-9434-0b30c88825ac",
   "metadata": {},
   "outputs": [],
   "source": [
    "import matplotlib.pyplot as plt\n",
    "from dataset import Dataset, BLAT_ECOLX, PABP_YEAST\n",
    "import pandas as pd"
   ]
  },
  {
   "cell_type": "code",
   "execution_count": 2,
   "id": "50b6b6e8-e91f-44e7-83c5-f70532531034",
   "metadata": {},
   "outputs": [
    {
     "name": "stdout",
     "output_type": "stream",
     "text": [
      "Parsing fasta 'data/datasets/blat_ecolx/BLAT_ECOLX_hmmerbit_plmc_n5_m30_f50_t0.2_r24-286_id100_b105.a2m'\n",
      "Parsing labels 'data/datasets/blat_ecolx/BLAT_ECOLX_hmmerbit_plmc_n5_m30_f50_t0.2_r24-286_id100_b105_LABELS.a2m'\n",
      "Unique AA's: 23 AR-KYLZDGTPMNFIHECSWXVQ\n",
      "Generating 8403 1-hot encodings\n",
      "Generating 8403 1-hot encodings. Took 0.258s torch.Size([8403, 23, 253])\n",
      "Generating 4807 1-hot encodings\n",
      "Generating 4807 1-hot encodings. Took 0.131s torch.Size([4807, 23, 253])\n",
      "Calculating 8403 weights...\n",
      "\tBatch 0\n",
      "\tBatch 1\n",
      "\tBatch 2\n",
      "\tBatch 3\n",
      "\tBatch 4\n",
      "\tBatch 5\n",
      "\tBatch 6\n",
      "\tBatch 7\n",
      "\tBatch 8\n",
      "Wrote the processed dataset to cache file: data/cache/BLAT_ECOLX.pkl\n"
     ]
    }
   ],
   "source": [
    "# This will load the dataset for the specific dataset (BLAT_ECOLX)\n",
    "# Some of the preprocessing takes a while, so the Dataset class saves \n",
    "# a cache of the completed preprocessing in data/cache folder.\n",
    "# when you load the dataset again, the cache file is used to save time.\n",
    "\n",
    "dataset = Dataset(BLAT_ECOLX) # Also check out PABP_YEAST dataset"
   ]
  },
  {
   "cell_type": "code",
   "execution_count": 3,
   "id": "2df4c75c-e780-4c48-93fb-bec23078794e",
   "metadata": {},
   "outputs": [
    {
     "data": {
      "text/plain": [
       "dict_keys(['msa_df', 'mut_df', 'msa_tensors', 'msa_weights', 'mut_tensors', 'wildtype_seq', 'focus_columns', 'alphabet', 'seq_length'])"
      ]
     },
     "execution_count": 3,
     "metadata": {},
     "output_type": "execute_result"
    }
   ],
   "source": [
    "# What is inside this dataset?\n",
    "dataset.data.keys()"
   ]
  },
  {
   "cell_type": "code",
   "execution_count": 4,
   "id": "08ba8ca8-c123-41ea-9603-d35918029af2",
   "metadata": {},
   "outputs": [
    {
     "data": {
      "text/html": [
       "<div>\n",
       "<style scoped>\n",
       "    .dataframe tbody tr th:only-of-type {\n",
       "        vertical-align: middle;\n",
       "    }\n",
       "\n",
       "    .dataframe tbody tr th {\n",
       "        vertical-align: top;\n",
       "    }\n",
       "\n",
       "    .dataframe thead th {\n",
       "        text-align: right;\n",
       "    }\n",
       "</style>\n",
       "<table border=\"1\" class=\"dataframe\">\n",
       "  <thead>\n",
       "    <tr style=\"text-align: right;\">\n",
       "      <th></th>\n",
       "      <th>ur_up_</th>\n",
       "      <th>accession</th>\n",
       "      <th>entry_name</th>\n",
       "      <th>offset</th>\n",
       "      <th>taxonomy</th>\n",
       "      <th>sequence</th>\n",
       "      <th>label</th>\n",
       "      <th>trimmed</th>\n",
       "      <th>weight</th>\n",
       "    </tr>\n",
       "  </thead>\n",
       "  <tbody>\n",
       "    <tr>\n",
       "      <th>0</th>\n",
       "      <td>None</td>\n",
       "      <td>None</td>\n",
       "      <td>BLAT_ECOLX</td>\n",
       "      <td>24-286</td>\n",
       "      <td>ECOLX</td>\n",
       "      <td>hpetlVKVKDAEDQLGARVGYIELDLNSGKILeSFRPEERFPMMST...</td>\n",
       "      <td>Proteobacteria</td>\n",
       "      <td>VKVKDAEDQLGARVGYIELDLNSGKILSFRPEERFPMMSTFKVLLC...</td>\n",
       "      <td>0.002710</td>\n",
       "    </tr>\n",
       "    <tr>\n",
       "      <th>1</th>\n",
       "      <td>up</td>\n",
       "      <td>A0A077REW6</td>\n",
       "      <td>A0A077REW6_WHEAT</td>\n",
       "      <td>30-249</td>\n",
       "      <td>WHEAT</td>\n",
       "      <td>.....-KVKDAEDQLGARVGYIELDLNSGKILeSFRPEERFPMMST...</td>\n",
       "      <td>Streptophyta</td>\n",
       "      <td>-KVKDAEDQLGARVGYIELDLNSGKILSFRPEERFPMMSTFKVLLC...</td>\n",
       "      <td>0.002639</td>\n",
       "    </tr>\n",
       "    <tr>\n",
       "      <th>2</th>\n",
       "      <td>up</td>\n",
       "      <td>A0A077REW6</td>\n",
       "      <td>A0A077REW6_WHEAT</td>\n",
       "      <td>255-511</td>\n",
       "      <td>WHEAT</td>\n",
       "      <td>.....-KVKDAEDQLGARVGYIELDLNSGKILeSFRPEERFPMMST...</td>\n",
       "      <td>Streptophyta</td>\n",
       "      <td>-KVKDAEDQLGARVGYIELDLNSGKILSFRPEERFPMMSTFKVLLC...</td>\n",
       "      <td>0.002717</td>\n",
       "    </tr>\n",
       "    <tr>\n",
       "      <th>3</th>\n",
       "      <td>ur</td>\n",
       "      <td>UPI000373BDDC</td>\n",
       "      <td>UniRef100_UPI000373BDDC</td>\n",
       "      <td>53-306</td>\n",
       "      <td>UPI000373BDDC</td>\n",
       "      <td>.....----NAAEEQGVRVSVNIQDLSGTQRL.SLGSTESYMPAST...</td>\n",
       "      <td>Firmicutes</td>\n",
       "      <td>----NAAEEQGVRVSVNIQDLSGTQRLSLGSTESYMPASTIKLALA...</td>\n",
       "      <td>0.500000</td>\n",
       "    </tr>\n",
       "    <tr>\n",
       "      <th>4</th>\n",
       "      <td>ur</td>\n",
       "      <td>UPI000373BDDC</td>\n",
       "      <td>UniRef100_UPI000373BDDC</td>\n",
       "      <td>335-583</td>\n",
       "      <td>UPI000373BDDC</td>\n",
       "      <td>.....-------SERGIRVSVAIKDLSGSKEL.HLGSRQPYMPAST...</td>\n",
       "      <td>Firmicutes</td>\n",
       "      <td>-------SERGIRVSVAIKDLSGSKELHLGSRQPYMPASTIKLALA...</td>\n",
       "      <td>0.500000</td>\n",
       "    </tr>\n",
       "    <tr>\n",
       "      <th>...</th>\n",
       "      <td>...</td>\n",
       "      <td>...</td>\n",
       "      <td>...</td>\n",
       "      <td>...</td>\n",
       "      <td>...</td>\n",
       "      <td>...</td>\n",
       "      <td>...</td>\n",
       "      <td>...</td>\n",
       "      <td>...</td>\n",
       "    </tr>\n",
       "    <tr>\n",
       "      <th>8398</th>\n",
       "      <td>up</td>\n",
       "      <td>A0A0M2HTG1</td>\n",
       "      <td>A0A0M2HTG1_9MICO</td>\n",
       "      <td>51-290</td>\n",
       "      <td>9MICO</td>\n",
       "      <td>.....-----TLADAGAQVSVHVVDLDSHVHVlSGDDHVTMPIAGL...</td>\n",
       "      <td>Actinobacteria</td>\n",
       "      <td>-----TLADAGAQVSVHVVDLDSHVHVSGDDHVTMPIAGLGVVPLL...</td>\n",
       "      <td>0.166667</td>\n",
       "    </tr>\n",
       "    <tr>\n",
       "      <th>8399</th>\n",
       "      <td>ur</td>\n",
       "      <td>UPI0003672275</td>\n",
       "      <td>UniRef100_UPI0003672275</td>\n",
       "      <td>9-257</td>\n",
       "      <td>UPI0003672275</td>\n",
       "      <td>....aLALTKRVQQESCLVSVLIQD-QTRKTF.AYREQEVFPGASL...</td>\n",
       "      <td>Firmicutes</td>\n",
       "      <td>LALTKRVQQESCLVSVLIQD-QTRKTFAYREQEVFPGASLLKIGIA...</td>\n",
       "      <td>1.000000</td>\n",
       "    </tr>\n",
       "    <tr>\n",
       "      <th>8400</th>\n",
       "      <td>up</td>\n",
       "      <td>A0A0F2CBE3</td>\n",
       "      <td>A0A0F2CBE3_9MICO</td>\n",
       "      <td>52-289</td>\n",
       "      <td>9MICO</td>\n",
       "      <td>.....------LADAGAQVSVHVVDLDSHVHVlSGDDHVTMPVAGL...</td>\n",
       "      <td>Actinobacteria</td>\n",
       "      <td>------LADAGAQVSVHVVDLDSHVHVSGDDHVTMPVAGLGVVPLL...</td>\n",
       "      <td>0.166667</td>\n",
       "    </tr>\n",
       "    <tr>\n",
       "      <th>8401</th>\n",
       "      <td>up</td>\n",
       "      <td>K7RW31</td>\n",
       "      <td>K7RW31_PROA4</td>\n",
       "      <td>30-274</td>\n",
       "      <td>PROA4</td>\n",
       "      <td>.....--------------------------LaEHTPDVVCRTASV...</td>\n",
       "      <td>Actinobacteria</td>\n",
       "      <td>--------------------------LEHTPDVVCRTASVGKLFLL...</td>\n",
       "      <td>0.333333</td>\n",
       "    </tr>\n",
       "    <tr>\n",
       "      <th>8402</th>\n",
       "      <td>up</td>\n",
       "      <td>A0A0L6HWY3</td>\n",
       "      <td>A0A0L6HWY3_9MICO</td>\n",
       "      <td>37-283</td>\n",
       "      <td>9MICO</td>\n",
       "      <td>....tATLRALEQDAGAQVSVHVVDLDNHVHVlSGDDHVTMPVAGL...</td>\n",
       "      <td>Actinobacteria</td>\n",
       "      <td>ATLRALEQDAGAQVSVHVVDLDNHVHVSGDDHVTMPVAGLGVVPLL...</td>\n",
       "      <td>0.166667</td>\n",
       "    </tr>\n",
       "  </tbody>\n",
       "</table>\n",
       "<p>8403 rows × 9 columns</p>\n",
       "</div>"
      ],
      "text/plain": [
       "     ur_up_      accession               entry_name   offset       taxonomy  \\\n",
       "0      None           None               BLAT_ECOLX   24-286          ECOLX   \n",
       "1        up     A0A077REW6         A0A077REW6_WHEAT   30-249          WHEAT   \n",
       "2        up     A0A077REW6         A0A077REW6_WHEAT  255-511          WHEAT   \n",
       "3        ur  UPI000373BDDC  UniRef100_UPI000373BDDC   53-306  UPI000373BDDC   \n",
       "4        ur  UPI000373BDDC  UniRef100_UPI000373BDDC  335-583  UPI000373BDDC   \n",
       "...     ...            ...                      ...      ...            ...   \n",
       "8398     up     A0A0M2HTG1         A0A0M2HTG1_9MICO   51-290          9MICO   \n",
       "8399     ur  UPI0003672275  UniRef100_UPI0003672275    9-257  UPI0003672275   \n",
       "8400     up     A0A0F2CBE3         A0A0F2CBE3_9MICO   52-289          9MICO   \n",
       "8401     up         K7RW31             K7RW31_PROA4   30-274          PROA4   \n",
       "8402     up     A0A0L6HWY3         A0A0L6HWY3_9MICO   37-283          9MICO   \n",
       "\n",
       "                                               sequence           label  \\\n",
       "0     hpetlVKVKDAEDQLGARVGYIELDLNSGKILeSFRPEERFPMMST...  Proteobacteria   \n",
       "1     .....-KVKDAEDQLGARVGYIELDLNSGKILeSFRPEERFPMMST...    Streptophyta   \n",
       "2     .....-KVKDAEDQLGARVGYIELDLNSGKILeSFRPEERFPMMST...    Streptophyta   \n",
       "3     .....----NAAEEQGVRVSVNIQDLSGTQRL.SLGSTESYMPAST...      Firmicutes   \n",
       "4     .....-------SERGIRVSVAIKDLSGSKEL.HLGSRQPYMPAST...      Firmicutes   \n",
       "...                                                 ...             ...   \n",
       "8398  .....-----TLADAGAQVSVHVVDLDSHVHVlSGDDHVTMPIAGL...  Actinobacteria   \n",
       "8399  ....aLALTKRVQQESCLVSVLIQD-QTRKTF.AYREQEVFPGASL...      Firmicutes   \n",
       "8400  .....------LADAGAQVSVHVVDLDSHVHVlSGDDHVTMPVAGL...  Actinobacteria   \n",
       "8401  .....--------------------------LaEHTPDVVCRTASV...  Actinobacteria   \n",
       "8402  ....tATLRALEQDAGAQVSVHVVDLDNHVHVlSGDDHVTMPVAGL...  Actinobacteria   \n",
       "\n",
       "                                                trimmed    weight  \n",
       "0     VKVKDAEDQLGARVGYIELDLNSGKILSFRPEERFPMMSTFKVLLC...  0.002710  \n",
       "1     -KVKDAEDQLGARVGYIELDLNSGKILSFRPEERFPMMSTFKVLLC...  0.002639  \n",
       "2     -KVKDAEDQLGARVGYIELDLNSGKILSFRPEERFPMMSTFKVLLC...  0.002717  \n",
       "3     ----NAAEEQGVRVSVNIQDLSGTQRLSLGSTESYMPASTIKLALA...  0.500000  \n",
       "4     -------SERGIRVSVAIKDLSGSKELHLGSRQPYMPASTIKLALA...  0.500000  \n",
       "...                                                 ...       ...  \n",
       "8398  -----TLADAGAQVSVHVVDLDSHVHVSGDDHVTMPIAGLGVVPLL...  0.166667  \n",
       "8399  LALTKRVQQESCLVSVLIQD-QTRKTFAYREQEVFPGASLLKIGIA...  1.000000  \n",
       "8400  ------LADAGAQVSVHVVDLDSHVHVSGDDHVTMPVAGLGVVPLL...  0.166667  \n",
       "8401  --------------------------LEHTPDVVCRTASVGKLFLL...  0.333333  \n",
       "8402  ATLRALEQDAGAQVSVHVVDLDNHVHVSGDDHVTMPVAGLGVVPLL...  0.166667  \n",
       "\n",
       "[8403 rows x 9 columns]"
      ]
     },
     "execution_count": 4,
     "metadata": {},
     "output_type": "execute_result"
    }
   ],
   "source": [
    "# A dataframe of the Multiple Sequence Alignment (MSA) training data. This has weight and label too!\n",
    "dataset.msa_df "
   ]
  },
  {
   "cell_type": "code",
   "execution_count": 5,
   "id": "2d0c550a-61cc-495f-84f2-da3d5d225ced",
   "metadata": {},
   "outputs": [
    {
     "data": {
      "text/html": [
       "<div>\n",
       "<style scoped>\n",
       "    .dataframe tbody tr th:only-of-type {\n",
       "        vertical-align: middle;\n",
       "    }\n",
       "\n",
       "    .dataframe tbody tr th {\n",
       "        vertical-align: top;\n",
       "    }\n",
       "\n",
       "    .dataframe thead th {\n",
       "        text-align: right;\n",
       "    }\n",
       "</style>\n",
       "<table border=\"1\" class=\"dataframe\">\n",
       "  <thead>\n",
       "    <tr style=\"text-align: right;\">\n",
       "      <th></th>\n",
       "      <th>mutation</th>\n",
       "      <th>sequence</th>\n",
       "      <th>value</th>\n",
       "    </tr>\n",
       "  </thead>\n",
       "  <tbody>\n",
       "    <tr>\n",
       "      <th>0</th>\n",
       "      <td>V29A</td>\n",
       "      <td>AKVKDAEDQLGARVGYIELDLNSGKILSFRPEERFPMMSTFKVLLC...</td>\n",
       "      <td>0.046785</td>\n",
       "    </tr>\n",
       "    <tr>\n",
       "      <th>1</th>\n",
       "      <td>V29C</td>\n",
       "      <td>CKVKDAEDQLGARVGYIELDLNSGKILSFRPEERFPMMSTFKVLLC...</td>\n",
       "      <td>0.035059</td>\n",
       "    </tr>\n",
       "    <tr>\n",
       "      <th>2</th>\n",
       "      <td>V29E</td>\n",
       "      <td>EKVKDAEDQLGARVGYIELDLNSGKILSFRPEERFPMMSTFKVLLC...</td>\n",
       "      <td>0.051001</td>\n",
       "    </tr>\n",
       "    <tr>\n",
       "      <th>3</th>\n",
       "      <td>V29D</td>\n",
       "      <td>DKVKDAEDQLGARVGYIELDLNSGKILSFRPEERFPMMSTFKVLLC...</td>\n",
       "      <td>0.044413</td>\n",
       "    </tr>\n",
       "    <tr>\n",
       "      <th>4</th>\n",
       "      <td>V29G</td>\n",
       "      <td>GKVKDAEDQLGARVGYIELDLNSGKILSFRPEERFPMMSTFKVLLC...</td>\n",
       "      <td>0.040153</td>\n",
       "    </tr>\n",
       "    <tr>\n",
       "      <th>...</th>\n",
       "      <td>...</td>\n",
       "      <td>...</td>\n",
       "      <td>...</td>\n",
       "    </tr>\n",
       "    <tr>\n",
       "      <th>4802</th>\n",
       "      <td>I283R</td>\n",
       "      <td>VKVKDAEDQLGARVGYIELDLNSGKILSFRPEERFPMMSTFKVLLC...</td>\n",
       "      <td>-1.948249</td>\n",
       "    </tr>\n",
       "    <tr>\n",
       "      <th>4803</th>\n",
       "      <td>I283T</td>\n",
       "      <td>VKVKDAEDQLGARVGYIELDLNSGKILSFRPEERFPMMSTFKVLLC...</td>\n",
       "      <td>-0.300995</td>\n",
       "    </tr>\n",
       "    <tr>\n",
       "      <th>4804</th>\n",
       "      <td>I283W</td>\n",
       "      <td>VKVKDAEDQLGARVGYIELDLNSGKILSFRPEERFPMMSTFKVLLC...</td>\n",
       "      <td>-1.713148</td>\n",
       "    </tr>\n",
       "    <tr>\n",
       "      <th>4805</th>\n",
       "      <td>I283V</td>\n",
       "      <td>VKVKDAEDQLGARVGYIELDLNSGKILSFRPEERFPMMSTFKVLLC...</td>\n",
       "      <td>-0.030749</td>\n",
       "    </tr>\n",
       "    <tr>\n",
       "      <th>4806</th>\n",
       "      <td>I283Y</td>\n",
       "      <td>VKVKDAEDQLGARVGYIELDLNSGKILSFRPEERFPMMSTFKVLLC...</td>\n",
       "      <td>-0.082166</td>\n",
       "    </tr>\n",
       "  </tbody>\n",
       "</table>\n",
       "<p>4807 rows × 3 columns</p>\n",
       "</div>"
      ],
      "text/plain": [
       "     mutation                                           sequence     value\n",
       "0        V29A  AKVKDAEDQLGARVGYIELDLNSGKILSFRPEERFPMMSTFKVLLC...  0.046785\n",
       "1        V29C  CKVKDAEDQLGARVGYIELDLNSGKILSFRPEERFPMMSTFKVLLC...  0.035059\n",
       "2        V29E  EKVKDAEDQLGARVGYIELDLNSGKILSFRPEERFPMMSTFKVLLC...  0.051001\n",
       "3        V29D  DKVKDAEDQLGARVGYIELDLNSGKILSFRPEERFPMMSTFKVLLC...  0.044413\n",
       "4        V29G  GKVKDAEDQLGARVGYIELDLNSGKILSFRPEERFPMMSTFKVLLC...  0.040153\n",
       "...       ...                                                ...       ...\n",
       "4802    I283R  VKVKDAEDQLGARVGYIELDLNSGKILSFRPEERFPMMSTFKVLLC... -1.948249\n",
       "4803    I283T  VKVKDAEDQLGARVGYIELDLNSGKILSFRPEERFPMMSTFKVLLC... -0.300995\n",
       "4804    I283W  VKVKDAEDQLGARVGYIELDLNSGKILSFRPEERFPMMSTFKVLLC... -1.713148\n",
       "4805    I283V  VKVKDAEDQLGARVGYIELDLNSGKILSFRPEERFPMMSTFKVLLC... -0.030749\n",
       "4806    I283Y  VKVKDAEDQLGARVGYIELDLNSGKILSFRPEERFPMMSTFKVLLC... -0.082166\n",
       "\n",
       "[4807 rows x 3 columns]"
      ]
     },
     "execution_count": 5,
     "metadata": {},
     "output_type": "execute_result"
    }
   ],
   "source": [
    "# This are all the single points mutation with the experimentally measured value\n",
    "dataset.mut_df"
   ]
  },
  {
   "cell_type": "code",
   "execution_count": 6,
   "id": "51a28405-47b1-4144-8689-3382020df8b9",
   "metadata": {},
   "outputs": [
    {
     "data": {
      "text/plain": [
       "<AxesSubplot:ylabel='Frequency'>"
      ]
     },
     "execution_count": 6,
     "metadata": {},
     "output_type": "execute_result"
    },
    {
     "data": {
      "image/png": "[encoded data removed]",
      "text/plain": [
       "<Figure size 432x288 with 1 Axes>"
      ]
     },
     "metadata": {
      "image/png": {
       "height": 248,
       "width": 388
      },
      "needs_background": "light"
     },
     "output_type": "display_data"
    }
   ],
   "source": [
    "dataset.mut_df.plot.hist(bins=100)\n",
    "# As seen, most of the mutations result in loss of finction"
   ]
  },
  {
   "cell_type": "code",
   "execution_count": 7,
   "id": "804debd5-3268-461b-b937-806a8068634e",
   "metadata": {},
   "outputs": [
    {
     "data": {
      "text/plain": [
       "tensor([[[0., 0., 0.,  ..., 0., 0., 0.],\n",
       "         [0., 0., 0.,  ..., 0., 0., 0.],\n",
       "         [0., 0., 0.,  ..., 0., 0., 0.],\n",
       "         ...,\n",
       "         [0., 0., 0.,  ..., 0., 0., 0.],\n",
       "         [1., 0., 1.,  ..., 0., 0., 0.],\n",
       "         [0., 0., 0.,  ..., 0., 0., 0.]],\n",
       "\n",
       "        [[0., 0., 0.,  ..., 0., 0., 0.],\n",
       "         [0., 0., 0.,  ..., 0., 0., 0.],\n",
       "         [1., 0., 0.,  ..., 1., 1., 1.],\n",
       "         ...,\n",
       "         [0., 0., 0.,  ..., 0., 0., 0.],\n",
       "         [0., 0., 1.,  ..., 0., 0., 0.],\n",
       "         [0., 0., 0.,  ..., 0., 0., 0.]],\n",
       "\n",
       "        [[0., 0., 0.,  ..., 0., 0., 0.],\n",
       "         [0., 0., 0.,  ..., 0., 0., 0.],\n",
       "         [1., 0., 0.,  ..., 0., 0., 0.],\n",
       "         ...,\n",
       "         [0., 0., 0.,  ..., 0., 0., 0.],\n",
       "         [0., 0., 1.,  ..., 0., 0., 0.],\n",
       "         [0., 0., 0.,  ..., 0., 0., 0.]],\n",
       "\n",
       "        ...,\n",
       "\n",
       "        [[0., 0., 0.,  ..., 0., 0., 0.],\n",
       "         [0., 0., 0.,  ..., 0., 0., 0.],\n",
       "         [1., 1., 1.,  ..., 1., 1., 1.],\n",
       "         ...,\n",
       "         [0., 0., 0.,  ..., 0., 0., 0.],\n",
       "         [0., 0., 0.,  ..., 0., 0., 0.],\n",
       "         [0., 0., 0.,  ..., 0., 0., 0.]],\n",
       "\n",
       "        [[0., 0., 0.,  ..., 0., 0., 0.],\n",
       "         [0., 0., 0.,  ..., 0., 0., 0.],\n",
       "         [1., 1., 1.,  ..., 0., 0., 1.],\n",
       "         ...,\n",
       "         [0., 0., 0.,  ..., 0., 0., 0.],\n",
       "         [0., 0., 0.,  ..., 0., 0., 0.],\n",
       "         [0., 0., 0.,  ..., 1., 0., 0.]],\n",
       "\n",
       "        [[1., 0., 0.,  ..., 0., 0., 0.],\n",
       "         [0., 0., 0.,  ..., 0., 0., 0.],\n",
       "         [0., 0., 0.,  ..., 1., 1., 1.],\n",
       "         ...,\n",
       "         [0., 0., 0.,  ..., 0., 0., 0.],\n",
       "         [0., 0., 0.,  ..., 0., 0., 0.],\n",
       "         [0., 0., 0.,  ..., 0., 0., 0.]]])"
      ]
     },
     "execution_count": 7,
     "metadata": {},
     "output_type": "execute_result"
    }
   ],
   "source": [
    "# These are 1-hot encoded tensors of the MSA's\n",
    "dataset.msa_tensors"
   ]
  },
  {
   "cell_type": "code",
   "execution_count": 8,
   "id": "b633d1a3-af0b-4bc4-98df-9b9c5d5d19b0",
   "metadata": {},
   "outputs": [
    {
     "data": {
      "text/plain": [
       "Text(0, 0.5, 'Aminoacid')"
      ]
     },
     "execution_count": 8,
     "metadata": {},
     "output_type": "execute_result"
    },
    {
     "data": {
      "image/png": "[encoded data removed]",
      "text/plain": [
       "<Figure size 1296x720 with 1 Axes>"
      ]
     },
     "metadata": {
      "image/png": {
       "height": 137,
       "width": 1049
      },
      "needs_background": "light"
     },
     "output_type": "display_data"
    }
   ],
   "source": [
    "# Let's display our wildtype protein (first MSA in list)\n",
    "plt.figure(figsize=(18,10))\n",
    "plt.imshow(dataset.msa_tensors[0])\n",
    "plt.grid(None)\n",
    "plt.yticks(ticks=range(len(dataset.alphabet)), labels=dataset.alphabet);\n",
    "plt.xlabel(\"Position\")\n",
    "plt.ylabel(\"Aminoacid\")"
   ]
  },
  {
   "cell_type": "code",
   "execution_count": 9,
   "id": "a58f8797-81ba-490f-a423-da421323ce0f",
   "metadata": {},
   "outputs": [
    {
     "data": {
      "text/plain": [
       "tensor([0.0027, 0.0026, 0.0027,  ..., 0.1667, 0.3333, 0.1667])"
      ]
     },
     "execution_count": 9,
     "metadata": {},
     "output_type": "execute_result"
    }
   ],
   "source": [
    "dataset.msa_weights # The weights!"
   ]
  },
  {
   "cell_type": "code",
   "execution_count": 10,
   "id": "99ba2178-7b31-4be0-8e6e-29ea5f687cc3",
   "metadata": {},
   "outputs": [
    {
     "data": {
      "image/png": "[encoded data removed]",
      "text/plain": [
       "<Figure size 432x288 with 1 Axes>"
      ]
     },
     "metadata": {
      "image/png": {
       "height": 248,
       "width": 395
      },
      "needs_background": "light"
     },
     "output_type": "display_data"
    }
   ],
   "source": [
    "pd.Series(dataset.msa_weights).plot.hist(bins=50);"
   ]
  },
  {
   "cell_type": "code",
   "execution_count": null,
   "id": "ea9d18c4-1bec-40ff-a52b-a6f8d255e6ec",
   "metadata": {},
   "outputs": [],
   "source": []
  }
 ],
 "metadata": {
  "kernelspec": {
   "display_name": "Python 3 (ipykernel)",
   "language": "python",
   "name": "python3"
  },
  "language_info": {
   "codemirror_mode": {
    "name": "ipython",
    "version": 3
   },
   "file_extension": ".py",
   "mimetype": "text/x-python",
   "name": "python",
   "nbconvert_exporter": "python",
   "pygments_lexer": "ipython3",
   "version": "3.9.6"
  }
 },
 "nbformat": 4,
 "nbformat_minor": 5
}
